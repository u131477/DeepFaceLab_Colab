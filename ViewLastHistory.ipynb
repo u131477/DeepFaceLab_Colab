{
  "nbformat": 4,
  "nbformat_minor": 0,
  "metadata": {
    "colab": {
      "name": "ViewLastHistory.ipynb",
      "version": "0.3.2",
      "provenance": [],
      "collapsed_sections": [],
      "toc_visible": true,
      "include_colab_link": true
    },
    "kernelspec": {
      "name": "python3",
      "display_name": "Python 3"
    },
    "accelerator": "GPU"
  },
  "cells": [
    {
      "cell_type": "markdown",
      "metadata": {
        "id": "view-in-github",
        "colab_type": "text"
      },
      "source": [
        "<a href=\"https://colab.research.google.com/github/dream80/DeepFaceLab_Colab/blob/master/ViewLastHistory.ipynb\" target=\"_parent\"><img src=\"https://colab.research.google.com/assets/colab-badge.svg\" alt=\"Open In Colab\"/></a>"
      ]
    },
    {
      "metadata": {
        "id": "EuuIPHQL2fka",
        "colab_type": "text"
      },
      "cell_type": "markdown",
      "source": [
        "# 挂载谷歌云盘（必须）"
      ]
    },
    {
      "metadata": {
        "id": "gHq48bzyv1As",
        "colab_type": "code",
        "colab": {},
        "cellView": "form"
      },
      "cell_type": "code",
      "source": [
        "#@title\n",
        "#Mount Google Drive as folder\n",
        "from google.colab import drive\n",
        "\n",
        "drive.mount('/content/drive', force_remount=True)"
      ],
      "execution_count": 0,
      "outputs": []
    },
    {
      "metadata": {
        "id": "esmOmdtp3Hdv",
        "colab_type": "text"
      },
      "cell_type": "markdown",
      "source": [
        "#查看SAE最新预览图\n",
        "训练环节必须开启预览功能"
      ]
    },
    {
      "metadata": {
        "id": "FvwLSX8fwDVK",
        "colab_type": "code",
        "colab": {},
        "cellView": "form"
      },
      "cell_type": "code",
      "source": [
        "#@title\n",
        "#No need to stop training\n",
        "\n",
        "import matplotlib.pyplot as plt\n",
        "import tensorflow as tf\n",
        "import numpy as np\n",
        "import os\n",
        "from google.colab import files\n",
        " \n",
        "print(tf.__version__)\n",
        "\n",
        "imgpath=\"/content/drive/My Drive/DeepFaceLab/workspace/model/SAE_history/\"\n",
        "tlist=os.listdir(imgpath)\n",
        "tlist.sort(key=lambda x:int(x[:-5]))\n",
        "lastpic=tlist[-1]\n",
        "\n",
        "image_raw = tf.gfile.GFile(imgpath+lastpic,'rb').read()   #bytes\n",
        "img = tf.image.decode_jpeg(image_raw)  #Tensor\n",
        "\n",
        "plt.rcParams['figure.figsize'] = (8, 4.0)\n",
        "plt.rcParams['image.interpolation'] = 'nearest'\n",
        "plt.rcParams['image.cmap'] = 'gray' \n",
        "plt.rcParams['savefig.dpi'] =200 \n",
        "plt.rcParams['figure.dpi'] = 200\n",
        "\n",
        "\n",
        "\n",
        "with tf.Session() as sess:\n",
        "    plt.imshow(img.eval())"
      ],
      "execution_count": 0,
      "outputs": []
    },
    {
      "metadata": {
        "id": "JiItxtxK2m0R",
        "colab_type": "text"
      },
      "cell_type": "markdown",
      "source": [
        "#查看H128 最新预览图\n",
        "训练环节必须开启预览功能"
      ]
    },
    {
      "metadata": {
        "id": "GZXK8rQQv_S0",
        "colab_type": "code",
        "colab": {},
        "cellView": "form"
      },
      "cell_type": "code",
      "source": [
        "#@title\n",
        "#No need to stop training\n",
        "\n",
        "import matplotlib.pyplot as plt\n",
        "import tensorflow as tf\n",
        "import numpy as np\n",
        "import os\n",
        "from google.colab import files\n",
        " \n",
        "print(tf.__version__)\n",
        "\n",
        "imgpath=\"/content/drive/My Drive/DeepFaceLab/workspace/model/H128_history/\"\n",
        "tlist=os.listdir(imgpath)\n",
        "tlist.sort(key=lambda x:int(x[:-5]))\n",
        "lastpic=tlist[-1]\n",
        "\n",
        "image_raw = tf.gfile.GFile(imgpath+lastpic,'rb').read()   #bytes\n",
        "img = tf.image.decode_jpeg(image_raw)  #Tensor\n",
        "\n",
        "plt.rcParams['figure.figsize'] = (8, 4.0)\n",
        "plt.rcParams['image.interpolation'] = 'nearest'\n",
        "plt.rcParams['image.cmap'] = 'gray' \n",
        "plt.rcParams['savefig.dpi'] =200 \n",
        "plt.rcParams['figure.dpi'] = 200\n",
        "\n",
        "\n",
        "\n",
        "with tf.Session() as sess:\n",
        "    plt.imshow(img.eval())"
      ],
      "execution_count": 0,
      "outputs": []
    },
    {
      "metadata": {
        "id": "P51guci73MBN",
        "colab_type": "text"
      },
      "cell_type": "markdown",
      "source": [
        "#查看DF 最新预览图\n",
        "训练环节必须开启预览功能"
      ]
    },
    {
      "metadata": {
        "id": "z4nzml9UynDI",
        "colab_type": "code",
        "colab": {},
        "cellView": "form"
      },
      "cell_type": "code",
      "source": [
        "#@title\n",
        "#No need to stop training\n",
        "\n",
        "import matplotlib.pyplot as plt\n",
        "import tensorflow as tf\n",
        "import numpy as np\n",
        "import os\n",
        "from google.colab import files\n",
        " \n",
        "print(tf.__version__)\n",
        "\n",
        "imgpath=\"/content/drive/My Drive/DeepFaceLab/workspace/model/DF_history/\"\n",
        "tlist=os.listdir(imgpath)\n",
        "tlist.sort(key=lambda x:int(x[:-5]))\n",
        "lastpic=tlist[-1]\n",
        "\n",
        "image_raw = tf.gfile.GFile(imgpath+lastpic,'rb').read()   #bytes\n",
        "img = tf.image.decode_jpeg(image_raw)  #Tensor\n",
        "\n",
        "plt.rcParams['figure.figsize'] = (8, 4.0)\n",
        "plt.rcParams['image.interpolation'] = 'nearest'\n",
        "plt.rcParams['image.cmap'] = 'gray' \n",
        "plt.rcParams['savefig.dpi'] =200 \n",
        "plt.rcParams['figure.dpi'] = 200\n",
        "\n",
        "\n",
        "\n",
        "with tf.Session() as sess:\n",
        "    plt.imshow(img.eval())"
      ],
      "execution_count": 0,
      "outputs": []
    },
    {
      "metadata": {
        "id": "2gKivf_83WRy",
        "colab_type": "text"
      },
      "cell_type": "markdown",
      "source": [
        "#查看其他模型预览\n",
        "自行修改imgpath=\"/content/drive/My Drive/DeepFaceLab/workspace/model/H128_history/\" 这一行代码。\n",
        "\n",
        "把H128 替换成你需要的模型名称，名称一律大写。"
      ]
    }
  ]
}